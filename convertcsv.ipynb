{
 "cells": [
  {
   "cell_type": "code",
   "execution_count": 1,
   "metadata": {},
   "outputs": [],
   "source": [
    "import csv"
   ]
  },
  {
   "cell_type": "code",
   "execution_count": 2,
   "metadata": {},
   "outputs": [],
   "source": [
    "Authors = dict()   # Authors dictionary. Keys = authors. Values = list written papers' indexes.\n",
    "Papers  = dict()   # Papers dictionary. Keys = papers' indexes. Values = list of its authors.\n",
    "\n",
    "with open('neo4j.csv') as planilha:\n",
    "    readCSV =csv.reader(planilha, delimiter=',')\n",
    "    i = 0\n",
    "    for row in readCSV:\n",
    "        i += 1\n",
    "        Papers[i] = row \n",
    "        for author in row:\n",
    "            if author not in Authors:\n",
    "                Authors[author] = [i]\n",
    "            else:\n",
    "                Authors[author].append(i)\n",
    "                \n",
    "'''IMPORTANT: I did some manual pre-processing in the neo4j.csv and the script depends on it to work. \n",
    "Basically, some small adjustments -- e.g., substituting irregular characters as ó, ü and spaces, as Cypher cannot use them to name variables'''"
   ]
  },
  {
   "cell_type": "code",
   "execution_count": 3,
   "metadata": {
    "scrolled": false
   },
   "outputs": [],
   "source": [
    "'''Create a text file containing the script that loads the Graph DB'''\n",
    "\n",
    "script = open('script.txt', 'w')\n",
    "\n",
    "# Create the paper nodes\n",
    "for paper in Papers:\n",
    "    script.write('CREATE (P{}:Paper {{id:\\'{}\\'}})\\n'.format(paper, paper))\n",
    "    \n",
    "# Create the author nodes and the edges\n",
    "for author in Authors:\n",
    "    script.write('CREATE ({}:Author {{name:\\'{}\\'}})\\n'.format(author, author))\n",
    "    script.write('CREATE\\n')\n",
    "    \n",
    "    for i in range(len(Authors[author])):\n",
    "        authored_paper = Authors[author][i]\n",
    "        if i+1 == len(Authors[author]):\n",
    "            script.write('    ({})-[:AUTHORED]->(P{})\\n'.format(author, authored_paper))\n",
    "        else:\n",
    "            script.write('    ({})-[:AUTHORED]->(P{}),\\n'.format(author, authored_paper))\n",
    "        \n",
    "# Create author-author edges (collab) (optional)\n",
    "\n",
    "colab = False\n",
    "if colab == True:\n",
    "\n",
    "    script.write('CREATE\\n')\n",
    "    \n",
    "    for p in Papers:\n",
    "        authors = Papers[p] # fetch p authors (list)\n",
    "        for i in range(len(authors)):\n",
    "            for j in range(i+1,len(authors)):\n",
    "                script.write('    ({})-[:COLLABORATED]->({}),\\n'.format(authors[i], authors[j]))\n",
    "    \n",
    "\n",
    "    with open(\"script.txt\", 'rb+') as f: # workaround to delete the last comma\n",
    "        f.seek(0,2)                      # end of file\n",
    "        size=f.tell()                    # the size...\n",
    "        f.truncate(size-2)               # truncate at that size - how ever many characters\n",
    "\n",
    "script.close()\n",
    "\n",
    "    "
   ]
  },
  {
   "cell_type": "code",
   "execution_count": 4,
   "metadata": {},
   "outputs": [],
   "source": [
    "'''Create a collab graph (without the papers)'''\n",
    "    \n",
    "colab = dict()    # dictionary stores partners -- key = author; value = list of authors that collaborated with a.\n",
    "for a in Authors:\n",
    "    colab[a] = []\n",
    "\n",
    "for p in Papers:\n",
    "    authors = Papers[p] #fetch p authors (list)\n",
    "    for a in authors:\n",
    "        for b in authors:\n",
    "            if a != b and not a in colab[b] and not b in colab[a]:\n",
    "                colab[a].append(b)\n",
    "              \n",
    "script = open('colabscript.txt', 'w')\n",
    "            \n",
    "for author in Authors: # write the authors as variables in the cypher script\n",
    "    script.write('CREATE ({}:Author {{name:\\'{}\\'}})\\n'.format(author, author))\n",
    "    \n",
    "\n",
    "script.write('CREATE\\n')\n",
    "\n",
    "for a in colab: # write collab edges (a->b implies not b->a)\n",
    "    for b in colab[a]:\n",
    "        script.write('({})-[:COLLABORATED]->({}),\\n'.format(a, b))\n",
    "        \n",
    "script.close()\n",
    "            \n",
    "with open(\"colabscript.txt\", 'rb+') as f: # workaround to delete the last comma\n",
    "    f.seek(0,2)                 # end of file\n",
    "    size=f.tell()               # the size...\n",
    "    f.truncate(size-2)          # truncate at that size - how ever many characters"
   ]
  },
  {
   "cell_type": "code",
   "execution_count": null,
   "metadata": {},
   "outputs": [],
   "source": []
  }
 ],
 "metadata": {
  "kernelspec": {
   "display_name": "Python 3",
   "language": "python",
   "name": "python3"
  },
  "language_info": {
   "codemirror_mode": {
    "name": "ipython",
    "version": 3
   },
   "file_extension": ".py",
   "mimetype": "text/x-python",
   "name": "python",
   "nbconvert_exporter": "python",
   "pygments_lexer": "ipython3",
   "version": "3.8.3"
  }
 },
 "nbformat": 4,
 "nbformat_minor": 4
}
